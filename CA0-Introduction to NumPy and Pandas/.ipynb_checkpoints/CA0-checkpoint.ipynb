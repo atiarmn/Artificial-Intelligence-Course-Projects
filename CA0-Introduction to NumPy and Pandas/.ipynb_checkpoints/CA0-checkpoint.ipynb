{
 "cells": [
  {
   "cell_type": "markdown",
   "metadata": {},
   "source": [
    "\n",
    "<h1 style=\"direction = rtl;\">گزارش پروژه صفر درس هوش مصنوعی</h1>\n",
    "\n",
    "آتیه آرمین\n",
    "۸۱۰۱۹۷۶۴۸\n",
    "\n",
    "<div class=\"text-right\" style=\"direction: rtl;\">\n",
    "    <h4>هدف:</h4>\n",
    "    <p>هدف ما در این پروژه این است که با توجه به مجموعه‌ای از ویژگی های کاربران، پیشبینی کنیم که کاربرانی که مشخص نیست که روی آگهی کلیک کرده‌اند یا نه، چه تصمیمی گرفته اند.  </p>\n",
    "</div>\n"
   ]
  },
  {
   "cell_type": "code",
   "execution_count": 34,
   "metadata": {},
   "outputs": [
    {
     "name": "stdout",
     "output_type": "stream",
     "text": [
      "output of tail function:\n",
      "     Unnamed: 0  Daily Time Spent on Site   Age  Area Income  \\\n",
      "996         996                     51.30  45.0     67782.17   \n",
      "997         997                     51.63  51.0     42415.72   \n",
      "998         998                     55.55  19.0     41920.79   \n",
      "999         999                       NaN  26.0     29875.80   \n",
      "\n",
      "     Daily Internet Usage                         Ad Topic Line  \\\n",
      "996                134.42       Grass-roots cohesive monitoring   \n",
      "997                120.37          Expanded intangible solution   \n",
      "998                187.95  Proactive bandwidth-monitored policy   \n",
      "999                178.35       Virtual 5thgeneration emulation   \n",
      "\n",
      "              City  Gender                 Country            Timestamp  \\\n",
      "996    New Darlene    Male  Bosnia and Herzegovina  2016-04-22 02:07:01   \n",
      "997  South Jessica    Male                Mongolia  2016-02-01 17:24:57   \n",
      "998    West Steven  Female               Guatemala  2016-03-24 02:35:54   \n",
      "999    Ronniemouth  Female                  Brazil  2016-06-03 21:43:21   \n",
      "\n",
      "     Clicked on Ad  \n",
      "996            1.0  \n",
      "997            1.0  \n",
      "998            0.0  \n",
      "999            1.0  \n",
      "-------------------------\n",
      "output of head function:\n",
      "   Unnamed: 0  Daily Time Spent on Site   Age  Area Income  \\\n",
      "0           0                     68.95  35.0     61833.90   \n",
      "1           1                     80.23  31.0     68441.85   \n",
      "2           2                     69.47  26.0     59785.94   \n",
      "3           3                     74.15  29.0     54806.18   \n",
      "\n",
      "   Daily Internet Usage                          Ad Topic Line  \\\n",
      "0                256.09     Cloned 5thgeneration orchestration   \n",
      "1                   NaN     Monitored national standardization   \n",
      "2                236.50       Organic bottom-line service-desk   \n",
      "3                245.89  Triple-buffered reciprocal time-frame   \n",
      "\n",
      "             City  Gender     Country            Timestamp  Clicked on Ad  \n",
      "0     Wrightburgh  Female     Tunisia  2016-03-27 00:53:11            0.0  \n",
      "1       West Jodi    Male       Nauru  2016-04-04 01:39:02            0.0  \n",
      "2        Davidton  Female  San Marino  2016-03-13 20:35:42            0.0  \n",
      "3  West Terrifurt    Male       Italy  2016-01-10 02:31:19            0.0  \n",
      "-------------------------\n",
      "output of describe function:\n"
     ]
    },
    {
     "data": {
      "text/html": [
       "<div>\n",
       "<style scoped>\n",
       "    .dataframe tbody tr th:only-of-type {\n",
       "        vertical-align: middle;\n",
       "    }\n",
       "\n",
       "    .dataframe tbody tr th {\n",
       "        vertical-align: top;\n",
       "    }\n",
       "\n",
       "    .dataframe thead th {\n",
       "        text-align: right;\n",
       "    }\n",
       "</style>\n",
       "<table border=\"1\" class=\"dataframe\">\n",
       "  <thead>\n",
       "    <tr style=\"text-align: right;\">\n",
       "      <th></th>\n",
       "      <th>Unnamed: 0</th>\n",
       "      <th>Daily Time Spent on Site</th>\n",
       "      <th>Age</th>\n",
       "      <th>Area Income</th>\n",
       "      <th>Daily Internet Usage</th>\n",
       "      <th>Clicked on Ad</th>\n",
       "    </tr>\n",
       "  </thead>\n",
       "  <tbody>\n",
       "    <tr>\n",
       "      <th>count</th>\n",
       "      <td>1000.000000</td>\n",
       "      <td>907.000000</td>\n",
       "      <td>979.000000</td>\n",
       "      <td>1000.000000</td>\n",
       "      <td>913.000000</td>\n",
       "      <td>832.000000</td>\n",
       "    </tr>\n",
       "    <tr>\n",
       "      <th>mean</th>\n",
       "      <td>499.500000</td>\n",
       "      <td>64.794818</td>\n",
       "      <td>36.009193</td>\n",
       "      <td>55000.000080</td>\n",
       "      <td>179.751271</td>\n",
       "      <td>0.496394</td>\n",
       "    </tr>\n",
       "    <tr>\n",
       "      <th>std</th>\n",
       "      <td>288.819436</td>\n",
       "      <td>15.954841</td>\n",
       "      <td>8.783636</td>\n",
       "      <td>13414.634022</td>\n",
       "      <td>43.957934</td>\n",
       "      <td>0.500288</td>\n",
       "    </tr>\n",
       "    <tr>\n",
       "      <th>min</th>\n",
       "      <td>0.000000</td>\n",
       "      <td>32.600000</td>\n",
       "      <td>19.000000</td>\n",
       "      <td>13996.500000</td>\n",
       "      <td>104.780000</td>\n",
       "      <td>0.000000</td>\n",
       "    </tr>\n",
       "    <tr>\n",
       "      <th>25%</th>\n",
       "      <td>249.750000</td>\n",
       "      <td>50.615000</td>\n",
       "      <td>29.000000</td>\n",
       "      <td>47031.802500</td>\n",
       "      <td>138.550000</td>\n",
       "      <td>0.000000</td>\n",
       "    </tr>\n",
       "    <tr>\n",
       "      <th>50%</th>\n",
       "      <td>499.500000</td>\n",
       "      <td>67.940000</td>\n",
       "      <td>35.000000</td>\n",
       "      <td>57012.300000</td>\n",
       "      <td>183.480000</td>\n",
       "      <td>0.000000</td>\n",
       "    </tr>\n",
       "    <tr>\n",
       "      <th>75%</th>\n",
       "      <td>749.250000</td>\n",
       "      <td>78.555000</td>\n",
       "      <td>42.000000</td>\n",
       "      <td>65470.635000</td>\n",
       "      <td>217.850000</td>\n",
       "      <td>1.000000</td>\n",
       "    </tr>\n",
       "    <tr>\n",
       "      <th>max</th>\n",
       "      <td>999.000000</td>\n",
       "      <td>91.430000</td>\n",
       "      <td>61.000000</td>\n",
       "      <td>79484.800000</td>\n",
       "      <td>269.960000</td>\n",
       "      <td>1.000000</td>\n",
       "    </tr>\n",
       "  </tbody>\n",
       "</table>\n",
       "</div>"
      ],
      "text/plain": [
       "        Unnamed: 0  Daily Time Spent on Site         Age   Area Income  \\\n",
       "count  1000.000000                907.000000  979.000000   1000.000000   \n",
       "mean    499.500000                 64.794818   36.009193  55000.000080   \n",
       "std     288.819436                 15.954841    8.783636  13414.634022   \n",
       "min       0.000000                 32.600000   19.000000  13996.500000   \n",
       "25%     249.750000                 50.615000   29.000000  47031.802500   \n",
       "50%     499.500000                 67.940000   35.000000  57012.300000   \n",
       "75%     749.250000                 78.555000   42.000000  65470.635000   \n",
       "max     999.000000                 91.430000   61.000000  79484.800000   \n",
       "\n",
       "       Daily Internet Usage  Clicked on Ad  \n",
       "count            913.000000     832.000000  \n",
       "mean             179.751271       0.496394  \n",
       "std               43.957934       0.500288  \n",
       "min              104.780000       0.000000  \n",
       "25%              138.550000       0.000000  \n",
       "50%              183.480000       0.000000  \n",
       "75%              217.850000       1.000000  \n",
       "max              269.960000       1.000000  "
      ]
     },
     "execution_count": 34,
     "metadata": {},
     "output_type": "execute_result"
    }
   ],
   "source": [
    "import numpy as np\n",
    "import pandas as pd\n",
    "import matplotlib.pyplot as plt\n",
    "from scipy.stats import norm\n",
    "import time \n",
    "\n",
    "df = pd.read_csv(\"advertising_dataset.csv\")\n",
    "\n",
    "print(\"output of tail function:\")\n",
    "print(df.tail(4))\n",
    "print(\"-------------------------\")\n",
    "print(\"output of head function:\")\n",
    "print(df.head(4))\n",
    "print(\"-------------------------\")\n",
    "print(\"output of describe function:\")\n",
    "df.describe()\n"
   ]
  },
  {
   "cell_type": "markdown",
   "metadata": {},
   "source": [
    "<div class=\"text-right\" style=\"direction: rtl;\">\n",
    "   <p> دراین قسمت از ما خواسته شده تا فایل csv را گرفته و سپس توسط توابع tail،head و describe داده های آن را نمایش دهیم.</p>\n",
    "    <h3>تابع tail :</h3>\n",
    "    <p>این تابع یک ورودی n میگیرد و سپس n سطر آخر dataframe مورد نظر را به عنوان خروجی میدهد. در این جا dataframe ما شامل ستون اول که نشان دهنده عدد سطر ها هست هم میشود در نتیجه این ستون را هم نشان میدهد.</p>\n",
    "    <h3>تابع head :</h3>\n",
    "    <p>این تابع یک ورودی n میگیرد و سپس n سطر اول dataframe مورد نظر را به عنوان خروجی میدهد. در این جا dataframe ما شامل ستون اول که نشان دهنده عدد سطر ها هست هم میشود در نتیجه این ستون را هم نشان میدهد.</p>\n",
    "    <h3>تابع describe :</h3>\n",
    "    <p>این تابع برای ستون های عددی، اطلاعات مختلفی مانند مینیمم، ماکسیمم، چارک اول و دوم وسوم، میانگین و غیره را در اختیار ما میگذارد.</p>\n",
    "</div>"
   ]
  },
  {
   "cell_type": "code",
   "execution_count": 35,
   "metadata": {},
   "outputs": [
    {
     "name": "stdout",
     "output_type": "stream",
     "text": [
      "dataframe before Label encoding : \n",
      "\n",
      "<class 'pandas.core.frame.DataFrame'>\n",
      "RangeIndex: 1000 entries, 0 to 999\n",
      "Data columns (total 11 columns):\n",
      " #   Column                    Non-Null Count  Dtype  \n",
      "---  ------                    --------------  -----  \n",
      " 0   Unnamed: 0                1000 non-null   int64  \n",
      " 1   Daily Time Spent on Site  907 non-null    float64\n",
      " 2   Age                       979 non-null    float64\n",
      " 3   Area Income               1000 non-null   float64\n",
      " 4   Daily Internet Usage      913 non-null    float64\n",
      " 5   Ad Topic Line             1000 non-null   object \n",
      " 6   City                      1000 non-null   object \n",
      " 7   Gender                    1000 non-null   object \n",
      " 8   Country                   1000 non-null   object \n",
      " 9   Timestamp                 1000 non-null   object \n",
      " 10  Clicked on Ad             832 non-null    float64\n",
      "dtypes: float64(5), int64(1), object(5)\n",
      "memory usage: 86.1+ KB\n",
      "----------------------------------\n",
      "dataframe after Label encoding : \n",
      "\n",
      "<class 'pandas.core.frame.DataFrame'>\n",
      "RangeIndex: 1000 entries, 0 to 999\n",
      "Data columns (total 11 columns):\n",
      " #   Column                    Non-Null Count  Dtype  \n",
      "---  ------                    --------------  -----  \n",
      " 0   Unnamed: 0                1000 non-null   int64  \n",
      " 1   Daily Time Spent on Site  907 non-null    float64\n",
      " 2   Age                       979 non-null    float64\n",
      " 3   Area Income               1000 non-null   float64\n",
      " 4   Daily Internet Usage      913 non-null    float64\n",
      " 5   Ad Topic Line             1000 non-null   object \n",
      " 6   City                      1000 non-null   object \n",
      " 7   Gender                    1000 non-null   int8   \n",
      " 8   Country                   1000 non-null   object \n",
      " 9   Timestamp                 1000 non-null   object \n",
      " 10  Clicked on Ad             832 non-null    float64\n",
      "dtypes: float64(5), int64(1), int8(1), object(4)\n",
      "memory usage: 79.2+ KB\n"
     ]
    }
   ],
   "source": [
    "print(\"dataframe before Label encoding : \\n\")\n",
    "df.info(verbose=True)\n",
    "df[\"Gender\"] = df[\"Gender\"].astype(\"category\")\n",
    "df[\"Gender\"] = df[\"Gender\"].cat.codes\n",
    "print(\"----------------------------------\")\n",
    "print(\"dataframe after Label encoding : \\n\")\n",
    "df.info(verbose=True)"
   ]
  },
  {
   "cell_type": "markdown",
   "metadata": {},
   "source": [
    "<div class=\"text-right\" style=\"direction: rtl;\">\n",
    "    <p>در این قسمت ابتدا از تابع info برای نشان دادن نوع داده‌ای هر ستون استفاده کردیم.</p>\n",
    "    <p>سپس برای سطر هایی که مقدار عددی ندارند عمل Label encoding را انجام دادیم. این عمل به معنای آن است که به هر object یک عدد داده می شود.مثلا در اینجا در ستونGender به نوع female عدد ۰ و به نوع male عدد ۱ داده میشود.</p>\n",
    "    <p>این عمل را برای هر ستون یا ۲ دستور انجام دادیم. ابتدا با تابع .astype() نوع داده را از object به catagory تغییر میدهیم. catagoryنوعی datatype است که برای مجموعه‌ای از text ها تعریف میشود.\n",
    "    سپس با اجرای cat.codes. میتوانیم به code های catagoryها یا همان label هایی که به صورت شماره هستند دسترسی داشته باشیم. بنابر این میتوانیم مقادیر آن ستون را برابر با labelها قرار دهیم.</p>\n",
    "</div>"
   ]
  },
  {
   "cell_type": "code",
   "execution_count": 36,
   "metadata": {},
   "outputs": [
    {
     "name": "stdout",
     "output_type": "stream",
     "text": [
      "before filling the NaN values:\n",
      "\n",
      "    Unnamed: 0  Daily Time Spent on Site   Age  Area Income  \\\n",
      "0            0                     68.95  35.0     61833.90   \n",
      "1            1                     80.23  31.0     68441.85   \n",
      "2            2                     69.47  26.0     59785.94   \n",
      "3            3                     74.15  29.0     54806.18   \n",
      "4            4                     68.37  35.0     73889.99   \n",
      "5            5                     59.99  23.0     59761.56   \n",
      "6            6                     88.91  33.0     53852.85   \n",
      "7            7                     66.00  48.0     24593.33   \n",
      "8            8                     74.53  30.0     68862.00   \n",
      "9            9                     69.88  20.0     55642.32   \n",
      "10          10                     47.64  49.0     45632.51   \n",
      "11          11                     83.07  37.0     62491.01   \n",
      "12          12                       NaN  48.0     51636.92   \n",
      "13          13                     79.52   NaN     51739.63   \n",
      "\n",
      "    Daily Internet Usage                                  Ad Topic Line  \\\n",
      "0                 256.09             Cloned 5thgeneration orchestration   \n",
      "1                    NaN             Monitored national standardization   \n",
      "2                 236.50               Organic bottom-line service-desk   \n",
      "3                 245.89          Triple-buffered reciprocal time-frame   \n",
      "4                 225.58                  Robust logistical utilization   \n",
      "5                 226.74                Sharable client-driven software   \n",
      "6                 208.36                     Enhanced dedicated support   \n",
      "7                 131.76                       Reactive local challenge   \n",
      "8                 221.51                 Configurable coherent function   \n",
      "9                 183.82             Mandatory homogeneous architecture   \n",
      "10                122.02                 Centralized neutral neural-net   \n",
      "11                   NaN  Team-oriented grid-enabled Local Area Network   \n",
      "12                113.12          Centralized content-based focus group   \n",
      "13                214.23               Synergistic fresh-thinking array   \n",
      "\n",
      "                 City  Gender                 Country            Timestamp  \\\n",
      "0         Wrightburgh       0                 Tunisia  2016-03-27 00:53:11   \n",
      "1           West Jodi       1                   Nauru  2016-04-04 01:39:02   \n",
      "2            Davidton       0              San Marino  2016-03-13 20:35:42   \n",
      "3      West Terrifurt       1                   Italy  2016-01-10 02:31:19   \n",
      "4        South Manuel       0                 Iceland  2016-06-03 03:36:18   \n",
      "5           Jamieberg       1                  Norway  2016-05-19 14:30:17   \n",
      "6         Brandonstad       0                 Myanmar  2016-01-28 20:59:32   \n",
      "7    Port Jefferybury       1               Australia  2016-03-07 01:40:15   \n",
      "8          West Colin       1                 Grenada  2016-04-18 09:33:42   \n",
      "9          Ramirezton       1                   Ghana  2016-07-11 01:42:51   \n",
      "10    West Brandonton       0                   Qatar  2016-03-16 20:19:01   \n",
      "11  East Theresashire       1                 Burundi  2016-05-08 08:10:10   \n",
      "12     West Katiefurt       1                   Egypt  2016-06-03 01:14:41   \n",
      "13         North Tara       0  Bosnia and Herzegovina  2016-04-20 21:49:22   \n",
      "\n",
      "    Clicked on Ad  \n",
      "0             0.0  \n",
      "1             0.0  \n",
      "2             0.0  \n",
      "3             0.0  \n",
      "4             0.0  \n",
      "5             0.0  \n",
      "6             0.0  \n",
      "7             1.0  \n",
      "8             0.0  \n",
      "9             0.0  \n",
      "10            NaN  \n",
      "11            0.0  \n",
      "12            1.0  \n",
      "13            0.0  \n",
      "---------------------------\n",
      "after filling the NaN values:\n",
      "\n",
      "    Unnamed: 0  Daily Time Spent on Site        Age  Area Income  \\\n",
      "0            0                 68.950000  35.000000     61833.90   \n",
      "1            1                 80.230000  31.000000     68441.85   \n",
      "2            2                 69.470000  26.000000     59785.94   \n",
      "3            3                 74.150000  29.000000     54806.18   \n",
      "4            4                 68.370000  35.000000     73889.99   \n",
      "5            5                 59.990000  23.000000     59761.56   \n",
      "6            6                 88.910000  33.000000     53852.85   \n",
      "7            7                 66.000000  48.000000     24593.33   \n",
      "8            8                 74.530000  30.000000     68862.00   \n",
      "9            9                 69.880000  20.000000     55642.32   \n",
      "10          10                 47.640000  49.000000     45632.51   \n",
      "11          11                 83.070000  37.000000     62491.01   \n",
      "12          12                 64.794818  48.000000     51636.92   \n",
      "13          13                 79.520000  36.009193     51739.63   \n",
      "\n",
      "    Daily Internet Usage                                  Ad Topic Line  \\\n",
      "0             256.090000             Cloned 5thgeneration orchestration   \n",
      "1             179.751271             Monitored national standardization   \n",
      "2             236.500000               Organic bottom-line service-desk   \n",
      "3             245.890000          Triple-buffered reciprocal time-frame   \n",
      "4             225.580000                  Robust logistical utilization   \n",
      "5             226.740000                Sharable client-driven software   \n",
      "6             208.360000                     Enhanced dedicated support   \n",
      "7             131.760000                       Reactive local challenge   \n",
      "8             221.510000                 Configurable coherent function   \n",
      "9             183.820000             Mandatory homogeneous architecture   \n",
      "10            122.020000                 Centralized neutral neural-net   \n",
      "11            179.751271  Team-oriented grid-enabled Local Area Network   \n",
      "12            113.120000          Centralized content-based focus group   \n",
      "13            214.230000               Synergistic fresh-thinking array   \n",
      "\n",
      "                 City  Gender                 Country            Timestamp  \\\n",
      "0         Wrightburgh       0                 Tunisia  2016-03-27 00:53:11   \n",
      "1           West Jodi       1                   Nauru  2016-04-04 01:39:02   \n",
      "2            Davidton       0              San Marino  2016-03-13 20:35:42   \n",
      "3      West Terrifurt       1                   Italy  2016-01-10 02:31:19   \n",
      "4        South Manuel       0                 Iceland  2016-06-03 03:36:18   \n",
      "5           Jamieberg       1                  Norway  2016-05-19 14:30:17   \n",
      "6         Brandonstad       0                 Myanmar  2016-01-28 20:59:32   \n",
      "7    Port Jefferybury       1               Australia  2016-03-07 01:40:15   \n",
      "8          West Colin       1                 Grenada  2016-04-18 09:33:42   \n",
      "9          Ramirezton       1                   Ghana  2016-07-11 01:42:51   \n",
      "10    West Brandonton       0                   Qatar  2016-03-16 20:19:01   \n",
      "11  East Theresashire       1                 Burundi  2016-05-08 08:10:10   \n",
      "12     West Katiefurt       1                   Egypt  2016-06-03 01:14:41   \n",
      "13         North Tara       0  Bosnia and Herzegovina  2016-04-20 21:49:22   \n",
      "\n",
      "    Clicked on Ad  \n",
      "0             0.0  \n",
      "1             0.0  \n",
      "2             0.0  \n",
      "3             0.0  \n",
      "4             0.0  \n",
      "5             0.0  \n",
      "6             0.0  \n",
      "7             1.0  \n",
      "8             0.0  \n",
      "9             0.0  \n",
      "10            NaN  \n",
      "11            0.0  \n",
      "12            1.0  \n",
      "13            0.0  \n"
     ]
    }
   ],
   "source": [
    "print(\"before filling the NaN values:\\n\")\n",
    "print(df.head(14))\n",
    "\n",
    "df['Daily Time Spent on Site']=df['Daily Time Spent on Site'].fillna(df['Daily Time Spent on Site'].mean())\n",
    "df['Age']=df['Age'].fillna(df['Age'].mean())\n",
    "df['Daily Internet Usage']=df['Daily Internet Usage'].fillna(df['Daily Internet Usage'].mean())\n",
    "\n",
    "\n",
    "\n",
    "\n",
    "print(\"---------------------------\")\n",
    "print(\"after filling the NaN values:\\n\")\n",
    "print(df.head(14))"
   ]
  },
  {
   "cell_type": "markdown",
   "metadata": {},
   "source": [
    "<div class=\"text-right\" style=\"direction: rtl;\">\n",
    "    <p>در این قسمت میخواهیم مقادیر NaN را با میانگین مقادیر ستون مورد نظر جایگزین کنیم.\n",
    "    برای این کار از تابع fillna و تابع mean استفاده میکنیم. تابع mean میانگین ستون مورد نظر را محاسبه میکند و تابع fillna آن مقدار را جایگزین میکند. در این تابع ویزگی inplace را برابر با مقدار true قرار میدهیم تا مقدار را دقیقا به جای NaN ذخیره کند.</p>\n",
    "    <p>راه دیگری برای اینکه به مشکل از دست رفتن داده رسیدگی کنیم این است که از تابع drop استفاده کنیم.</p>\n",
    "    <p>دستور زیر کل ستون را نگاه میکند، اگر در خانه‌ای مقدار nan پیدا کند، آن سطر را به کلی پاک میکند.</p>\n",
    "    <p style = \"direction: ltr;\">df.drop(columns = ['Daily Time Spent on Site','Age','Daily Internet Usage'])\n",
    "</div>"
   ]
  },
  {
   "cell_type": "code",
   "execution_count": 37,
   "metadata": {},
   "outputs": [
    {
     "name": "stdout",
     "output_type": "stream",
     "text": [
      "number of people who are female or male:\n",
      "\n",
      "0    519\n",
      "1    481\n",
      "Name: Gender, dtype: int64\n",
      "----------------------------\n",
      "number of peapole who clicked on Ad or not:\n",
      "\n",
      "0.0    419\n",
      "1.0    413\n",
      "Name: Clicked on Ad, dtype: int64\n"
     ]
    }
   ],
   "source": [
    "gender_count = df['Gender'].value_counts() \n",
    "click_count = df['Clicked on Ad'].value_counts() \n",
    "print(\"number of people who are female or male:\\n\")\n",
    "print(gender_count)\n",
    "print(\"----------------------------\")\n",
    "print(\"number of peapole who clicked on Ad or not:\\n\")\n",
    "print(click_count)\n"
   ]
  },
  {
   "cell_type": "markdown",
   "metadata": {},
   "source": [
    "<div class=\"text-right\" style=\"direction: rtl;\">\n",
    "    <p>در این قسمت میخواهیم بدانیم که چند تا از کاربران زن و چند تا مرد هستند.و همینطور تعداد کسانی که روی تبلیغ کلیک کرده‌اند یا نکرده‌اند را میخواهیم بدانیم.</p>\n",
    "    <p>برای اینکار از تابع value_counts استفاده میکنیم. این تابع مقدار انواع مختلف یک ستون را در اختیار ما میگذارد.</p>\n",
    "    <p>در ستون Clicked on Ad ۱۶۸ داده از دست رفته و با مقدار NaN داشتیم که در قسمت های قبل آن را معادل میانگین ستون مورد نظر قرار دادیم. در اینجا مقدار۰.۴۹۶۳۹۴ برابر با میانگین ستون است که نشان دهنده داده های از دست رفته است.</p>\n",
    "</div>"
   ]
  },
  {
   "cell_type": "code",
   "execution_count": 38,
   "metadata": {},
   "outputs": [
    {
     "name": "stdout",
     "output_type": "stream",
     "text": [
      "number of users who are woman and their age is greater than 20: \n",
      "516\n"
     ]
    }
   ],
   "source": [
    "print(\"number of users who are woman and their age is greater than 20: \")\n",
    "print(len(df[(df['Age']>20) & (df['Gender']==0)]))"
   ]
  },
  {
   "cell_type": "markdown",
   "metadata": {},
   "source": [
    "<div class=\"text-right\" style=\"direction: rtl;\">\n",
    "    <p>در اینجا میبینیم که میتوانیم برای اعمال یک شرط در dataframe به راحتی از یک خط دستور استفاده کنیم. </p>\n",
    "    <p> در واقع دستور df[(df['Age']>20) & (df['Gender']==0)] به ما کاربرانی را میدهد که این خصوصیات را دارند. ما با اعمال تابع len()میتوانیم تعداد این کاربران را بدست آوریم.</p>\n",
    "</div>"
   ]
  },
  {
   "cell_type": "code",
   "execution_count": 39,
   "metadata": {},
   "outputs": [
    {
     "name": "stdout",
     "output_type": "stream",
     "text": [
      "mean of the age of the users who didn't click on ad:\n",
      "\n",
      "31.723325881701896\n",
      "mean of the age of the users who clicked on ad:\n",
      "\n",
      "40.295599848637366\n"
     ]
    }
   ],
   "source": [
    "print(\"mean of the age of the users who didn't click on ad:\\n\")\n",
    "print(df[df['Clicked on Ad']==0]['Age'].mean())\n",
    "print(\"mean of the age of the users who clicked on ad:\\n\")\n",
    "print(df[df['Clicked on Ad']==1]['Age'].mean())\n"
   ]
  },
  {
   "cell_type": "markdown",
   "metadata": {},
   "source": [
    "<div class=\"text-right\" style=\"direction: rtl;\">\n",
    "    <p>در این قسمت میانگین سنی افرادی که روی آگهی کلیک کرده‌اند و آن هایی که کلیک نکرده‌اند را میخواهیم. برای این کار از تابع mean استفاده کردیم.\n",
    "    </p>\n",
    "    <p>این نکته را باید در نظر داشته باشیم که این مقادیر با پر کردنNaN های ستون Age ها با میانگین ستون Age محاسبه شده است.</p>\n",
    "</div>"
   ]
  },
  {
   "cell_type": "code",
   "execution_count": 40,
   "metadata": {},
   "outputs": [
    {
     "name": "stdout",
     "output_type": "stream",
     "text": [
      "time in pandas way: 1.215219 ms \n",
      "\n",
      "mean_pandas =\n",
      "31.723325881701896\n",
      "time in forloop way: 74.430943 ms \n",
      "\n",
      "mean_forloop =\n",
      "31.723325881701896\n"
     ]
    }
   ],
   "source": [
    "ts = time.time()\n",
    "mean_pandas = df[df['Clicked on Ad']==0]['Age'].mean()\n",
    "te = time.time()\n",
    "\n",
    "print(\"time in pandas way: %f ms \\n\" % ((te-ts)*1000))\n",
    "print(\"mean_pandas =\" )\n",
    "print(mean_pandas)\n",
    "sum = 0\n",
    "num = 0\n",
    "\n",
    "ts = time.time()\n",
    "for index, row in df.iterrows():\n",
    "    if(row['Clicked on Ad']==0):\n",
    "        if(pd.notnull(row['Age'])):\n",
    "            sum += row['Age']\n",
    "            num += 1\n",
    "mean = sum/num\n",
    "te = time.time()\n",
    "print(\"time in forloop way: %f ms \\n\" % ((te-ts)*1000))\n",
    "print(\"mean_forloop =\")\n",
    "print(mean)\n"
   ]
  },
  {
   "cell_type": "markdown",
   "metadata": {},
   "source": [
    "<div class=\"text-right\" style=\"direction: rtl;\">\n",
    "    <p></p>\n",
    "</div>"
   ]
  },
  {
   "cell_type": "markdown",
   "metadata": {},
   "source": [
    "<div class=\"text-right\" style=\"direction: rtl;\">\n",
    "    <p>در این قسمت میخواهیم ببینیم استفاده از victorization در مقابل for loop چه قدر سریع تر است.</p>\n",
    "    <p> برای این کار از کتابخانه و تابعtime استفاده میکنیم. قبل و بعد از انجام عمل time را ثبت میکنیم و میزان زمانی که آن عمل طول میکشد تفاوت بین آن دو زمان است.\n",
    "    همانطور که میبینید هر دو روش یک مقدار را برای میانگین سنی کسانی که روی آگهی کلیک نکرده اند بدست آورده اند امامیزان زمانی که forloop طول میکشد چندین برابر میزان زمانی است که از vectorizationاستفاده کردیم.</p>\n",
    "</div>"
   ]
  },
  {
   "cell_type": "code",
   "execution_count": 41,
   "metadata": {},
   "outputs": [
    {
     "data": {
      "text/plain": [
       "array([[<AxesSubplot:title={'center':'Area Income'}>]], dtype=object)"
      ]
     },
     "execution_count": 41,
     "metadata": {},
     "output_type": "execute_result"
    },
    {
     "data": {
      "image/png": "[encoded data removed]",
      "text/plain": [
       "<Figure size 432x288 with 1 Axes>"
      ]
     },
     "metadata": {
      "needs_background": "light"
     },
     "output_type": "display_data"
    },
    {
     "data": {
      "image/png": "[encoded data removed]",
      "text/plain": [
       "<Figure size 432x288 with 1 Axes>"
      ]
     },
     "metadata": {
      "needs_background": "light"
     },
     "output_type": "display_data"
    },
    {
     "data": {
      "image/png": "[encoded data removed]",
      "text/plain": [
       "<Figure size 432x288 with 1 Axes>"
      ]
     },
     "metadata": {
      "needs_background": "light"
     },
     "output_type": "display_data"
    },
    {
     "data": {
      "image/png": "[encoded data removed]",
      "text/plain": [
       "<Figure size 432x288 with 1 Axes>"
      ]
     },
     "metadata": {
      "needs_background": "light"
     },
     "output_type": "display_data"
    },
    {
     "data": {
      "image/png": "[encoded data removed]",
      "text/plain": [
       "<Figure size 432x288 with 1 Axes>"
      ]
     },
     "metadata": {
      "needs_background": "light"
     },
     "output_type": "display_data"
    },
    {
     "data": {
      "image/png": "[encoded data removed]",
      "text/plain": [
       "<Figure size 432x288 with 1 Axes>"
      ]
     },
     "metadata": {
      "needs_background": "light"
     },
     "output_type": "display_data"
    }
   ],
   "source": [
    "df.hist(column = \"Daily Time Spent on Site\")\n",
    "df.hist(column = \"Gender\")\n",
    "df.hist(column = \"Age\")\n",
    "df.hist(column = \"Daily Internet Usage\")\n",
    "df.hist(column = \"Clicked on Ad\")\n",
    "df.hist(column = \"Area Income\")\n"
   ]
  },
  {
   "cell_type": "markdown",
   "metadata": {},
   "source": [
    "<div class=\"text-right\" style=\"direction: rtl;\">\n",
    "    <p>در این قسمت با تابعhist شکل توزیع هر ستون از داده را نشان داده‌ایم.\n",
    "    در این قسمت باید بدانیم که تابعhist تنها برای ستون هایی قابل استفاده است که داده‌ی عددی دارند.</p>\n",
    "</div>"
   ]
  },
  {
   "cell_type": "code",
   "execution_count": 42,
   "metadata": {},
   "outputs": [
    {
     "name": "stdout",
     "output_type": "stream",
     "text": [
      "the first 14 row of the dataframe without Data normalization:\n",
      "    Unnamed: 0  Daily Time Spent on Site        Age  Area Income  \\\n",
      "0            0                 68.950000  35.000000     61833.90   \n",
      "1            1                 80.230000  31.000000     68441.85   \n",
      "2            2                 69.470000  26.000000     59785.94   \n",
      "3            3                 74.150000  29.000000     54806.18   \n",
      "4            4                 68.370000  35.000000     73889.99   \n",
      "5            5                 59.990000  23.000000     59761.56   \n",
      "6            6                 88.910000  33.000000     53852.85   \n",
      "7            7                 66.000000  48.000000     24593.33   \n",
      "8            8                 74.530000  30.000000     68862.00   \n",
      "9            9                 69.880000  20.000000     55642.32   \n",
      "10          10                 47.640000  49.000000     45632.51   \n",
      "11          11                 83.070000  37.000000     62491.01   \n",
      "12          12                 64.794818  48.000000     51636.92   \n",
      "13          13                 79.520000  36.009193     51739.63   \n",
      "\n",
      "    Daily Internet Usage                                  Ad Topic Line  \\\n",
      "0             256.090000             Cloned 5thgeneration orchestration   \n",
      "1             179.751271             Monitored national standardization   \n",
      "2             236.500000               Organic bottom-line service-desk   \n",
      "3             245.890000          Triple-buffered reciprocal time-frame   \n",
      "4             225.580000                  Robust logistical utilization   \n",
      "5             226.740000                Sharable client-driven software   \n",
      "6             208.360000                     Enhanced dedicated support   \n",
      "7             131.760000                       Reactive local challenge   \n",
      "8             221.510000                 Configurable coherent function   \n",
      "9             183.820000             Mandatory homogeneous architecture   \n",
      "10            122.020000                 Centralized neutral neural-net   \n",
      "11            179.751271  Team-oriented grid-enabled Local Area Network   \n",
      "12            113.120000          Centralized content-based focus group   \n",
      "13            214.230000               Synergistic fresh-thinking array   \n",
      "\n",
      "                 City  Gender                 Country            Timestamp  \\\n",
      "0         Wrightburgh       0                 Tunisia  2016-03-27 00:53:11   \n",
      "1           West Jodi       1                   Nauru  2016-04-04 01:39:02   \n",
      "2            Davidton       0              San Marino  2016-03-13 20:35:42   \n",
      "3      West Terrifurt       1                   Italy  2016-01-10 02:31:19   \n",
      "4        South Manuel       0                 Iceland  2016-06-03 03:36:18   \n",
      "5           Jamieberg       1                  Norway  2016-05-19 14:30:17   \n",
      "6         Brandonstad       0                 Myanmar  2016-01-28 20:59:32   \n",
      "7    Port Jefferybury       1               Australia  2016-03-07 01:40:15   \n",
      "8          West Colin       1                 Grenada  2016-04-18 09:33:42   \n",
      "9          Ramirezton       1                   Ghana  2016-07-11 01:42:51   \n",
      "10    West Brandonton       0                   Qatar  2016-03-16 20:19:01   \n",
      "11  East Theresashire       1                 Burundi  2016-05-08 08:10:10   \n",
      "12     West Katiefurt       1                   Egypt  2016-06-03 01:14:41   \n",
      "13         North Tara       0  Bosnia and Herzegovina  2016-04-20 21:49:22   \n",
      "\n",
      "    Clicked on Ad  \n",
      "0             0.0  \n",
      "1             0.0  \n",
      "2             0.0  \n",
      "3             0.0  \n",
      "4             0.0  \n",
      "5             0.0  \n",
      "6             0.0  \n",
      "7             1.0  \n",
      "8             0.0  \n",
      "9             0.0  \n",
      "10            NaN  \n",
      "11            0.0  \n",
      "12            1.0  \n",
      "13            0.0  \n",
      "the first 14 row of the dataframe with Data normalization:\n",
      "    Unnamed: 0  Daily Time Spent on Site       Age  Area Income  \\\n",
      "0            0                  0.273474 -0.116122     0.509436   \n",
      "1            1                  1.015870 -0.576377     1.002029   \n",
      "2            2                  0.307698 -1.151696     0.356770   \n",
      "3            3                  0.615713 -0.806505    -0.014448   \n",
      "4            4                  0.235301 -0.116122     1.408163   \n",
      "5            5                 -0.316230 -1.496888     0.354953   \n",
      "6            6                  1.587145 -0.346249    -0.085515   \n",
      "7            7                  0.079319  1.379709    -2.266679   \n",
      "8            8                  0.640723 -0.691441     1.033349   \n",
      "9            9                  0.334682 -1.842080     0.047882   \n",
      "10          10                 -1.129048  1.494773    -0.698304   \n",
      "11          11                  1.202785  0.114006     0.558421   \n",
      "12          12                  0.000000  1.379709    -0.250702   \n",
      "13          13                  0.969141  0.000000    -0.243046   \n",
      "\n",
      "    Daily Internet Usage                                  Ad Topic Line  \\\n",
      "0               1.817578             Cloned 5thgeneration orchestration   \n",
      "1               0.000000             Monitored national standardization   \n",
      "2               1.351152               Organic bottom-line service-desk   \n",
      "3               1.574722          Triple-buffered reciprocal time-frame   \n",
      "4               1.091154                  Robust logistical utilization   \n",
      "5               1.118772                Sharable client-driven software   \n",
      "6               0.681156                     Enhanced dedicated support   \n",
      "7              -1.142642                       Reactive local challenge   \n",
      "8               0.994249                 Configurable coherent function   \n",
      "9               0.096874             Mandatory homogeneous architecture   \n",
      "10             -1.374546                 Centralized neutral neural-net   \n",
      "11              0.000000  Team-oriented grid-enabled Local Area Network   \n",
      "12             -1.586449          Centralized content-based focus group   \n",
      "13              0.820917               Synergistic fresh-thinking array   \n",
      "\n",
      "                 City  Gender                 Country            Timestamp  \\\n",
      "0         Wrightburgh       0                 Tunisia  2016-03-27 00:53:11   \n",
      "1           West Jodi       1                   Nauru  2016-04-04 01:39:02   \n",
      "2            Davidton       0              San Marino  2016-03-13 20:35:42   \n",
      "3      West Terrifurt       1                   Italy  2016-01-10 02:31:19   \n",
      "4        South Manuel       0                 Iceland  2016-06-03 03:36:18   \n",
      "5           Jamieberg       1                  Norway  2016-05-19 14:30:17   \n",
      "6         Brandonstad       0                 Myanmar  2016-01-28 20:59:32   \n",
      "7    Port Jefferybury       1               Australia  2016-03-07 01:40:15   \n",
      "8          West Colin       1                 Grenada  2016-04-18 09:33:42   \n",
      "9          Ramirezton       1                   Ghana  2016-07-11 01:42:51   \n",
      "10    West Brandonton       0                   Qatar  2016-03-16 20:19:01   \n",
      "11  East Theresashire       1                 Burundi  2016-05-08 08:10:10   \n",
      "12     West Katiefurt       1                   Egypt  2016-06-03 01:14:41   \n",
      "13         North Tara       0  Bosnia and Herzegovina  2016-04-20 21:49:22   \n",
      "\n",
      "    Clicked on Ad  \n",
      "0             0.0  \n",
      "1             0.0  \n",
      "2             0.0  \n",
      "3             0.0  \n",
      "4             0.0  \n",
      "5             0.0  \n",
      "6             0.0  \n",
      "7             1.0  \n",
      "8             0.0  \n",
      "9             0.0  \n",
      "10            NaN  \n",
      "11            0.0  \n",
      "12            1.0  \n",
      "13            0.0  \n"
     ]
    }
   ],
   "source": [
    "print(\"the first 14 row of the dataframe without Data normalization:\")\n",
    "print(df.head(14))\n",
    "columns = list(df) \n",
    "\n",
    "for column in columns:\n",
    "    if(column == \"Unnamed: 0\"):\n",
    "        continue\n",
    "    if(df.dtypes[column] != 'O'):\n",
    "        if(column != 'Gender'):\n",
    "            if(column != 'Clicked on Ad'):\n",
    "                df[column] = (df[column] - df[column].mean())/df[column].std()\n",
    "\n",
    "print(\"the first 14 row of the dataframe with Data normalization:\")\n",
    "print(df.head(14))\n",
    "\n",
    "\n"
   ]
  },
  {
   "cell_type": "markdown",
   "metadata": {},
   "source": [
    "<div class=\"text-right\" style=\"direction: rtl;\">\n",
    "    <p>در این بخش میخواهیم برای بهبود داده ها از عمل نرمال سازی استفاده کنیم.</p>\n",
    "    <p> نرمالسازی را باکم کردن میانگین و تقسیم کردن بر انحراف معیار انجام دادیم.</p>\n",
    "    <p>در اینجا یک forloop روی ستون های dataframe زدیم و بعد هر ستونی که نوع داده آن object را normalize کردیم.</p>\n",
    "    <p>چون در صورت پروژه گفته شده ستونgender را هم در نظر نگیریم یک ifگذاشتیم که این ستون هم در نظر گرفته نشود.</p>\n",
    "</div>"
   ]
  },
  {
   "cell_type": "code",
   "execution_count": 43,
   "metadata": {},
   "outputs": [
    {
     "data": {
      "image/png": "[encoded data removed]",
      "text/plain": [
       "<Figure size 432x288 with 1 Axes>"
      ]
     },
     "metadata": {
      "needs_background": "light"
     },
     "output_type": "display_data"
    },
    {
     "data": {
      "image/png": "[encoded data removed]",
      "text/plain": [
       "<Figure size 432x288 with 1 Axes>"
      ]
     },
     "metadata": {
      "needs_background": "light"
     },
     "output_type": "display_data"
    },
    {
     "data": {
      "image/png": "[encoded data removed]",
      "text/plain": [
       "<Figure size 432x288 with 1 Axes>"
      ]
     },
     "metadata": {
      "needs_background": "light"
     },
     "output_type": "display_data"
    },
    {
     "data": {
      "image/png": "[encoded data removed]",
      "text/plain": [
       "<Figure size 432x288 with 1 Axes>"
      ]
     },
     "metadata": {
      "needs_background": "light"
     },
     "output_type": "display_data"
    }
   ],
   "source": [
    "for column in columns:\n",
    "    if(column == \"Unnamed: 0\"):\n",
    "        continue\n",
    "    if(df.dtypes[column] != 'O'):\n",
    "        if(column != 'Gender'):\n",
    "            if(column != 'Clicked on Ad'):\n",
    "                plt.title(column)\n",
    "                x = sorted(df[column])\n",
    "                mean_clicked = df[df['Clicked on Ad']==1][column].mean()\n",
    "                std_clicked = df[df['Clicked on Ad']==1][column].std()\n",
    "                y_clicked = norm.pdf(x,mean_clicked,std_clicked)\n",
    "                plt.plot(x,y_clicked,label='Clicked')\n",
    "                mean_not_clicked = df[df['Clicked on Ad']==0][column].mean()\n",
    "                std_not_clicked = df[df['Clicked on Ad']==0][column].std()\n",
    "                y_not_clicked = norm.pdf(x,mean_not_clicked,std_not_clicked)\n",
    "                plt.plot(x,y_not_clicked,label='Not Clicked')\n",
    "                plt.legend()\n",
    "\n",
    "                plt.show()"
   ]
  },
  {
   "cell_type": "markdown",
   "metadata": {},
   "source": [
    "<div class=\"text-right\" style=\"direction: rtl;\">\n",
    "    <p>در این قسمت میخواهیم نمودار توزیع نرمال را برای ویژگی های مختلف کسانی که روی آگهی کلیک کرده‌اند یا نکرده‌اند بدست آوریم.</p>\n",
    "    <p>برای این کار از توابعnorm.pdf و  plot استفاده کزدیم.</p>\n",
    "    <p>حال ما به دنبال این هستیم که یک ورودی مناسب برای مدلمان پیدا کنیم.مسلّما میخواهیم کمترین خطا را داشته باشیم. به همین دلیل ویژگی ای را باید انتخاب کنیم که تا حد امکان بتوان دسته‌ی کلیک کردن یا کلیک نکردن را متمایز کرد.بین نمودار های بالا به نظر میرسد در نمودار daily internet usage این دو دسته از یکدیگر بیشتر متمایز هستند. پس ورودی daily internet usage ورودی نسبتا خوبیست. </p>\n",
    "    <p>در واقع ورودی باید نقطه مشترک بین دو منحنی توزیع باشد زیرا در آن نقطه daily internet usage به حدی رسیده است که توزیع افراد کلیک کرده و افراد کلیک نکرده در آن نقطه برابر است. پس میتوان آن نقطه را یک معیار مناسب قرار داد.</p>\n",
    "</div>"
   ]
  },
  {
   "cell_type": "code",
   "execution_count": 44,
   "metadata": {},
   "outputs": [],
   "source": [
    "column = 'Daily Internet Usage'\n",
    "x = sorted(df[column])\n",
    "\n",
    "mean_clicked = df[df['Clicked on Ad']==1][column].mean()\n",
    "std_clicked = df[df['Clicked on Ad']==1][column].std()\n",
    "y_clicked = norm.pdf(x,mean_clicked,std_clicked)\n",
    "\n",
    "mean_not_clicked = df[df['Clicked on Ad']==0][column].mean()\n",
    "std_not_clicked = df[df['Clicked on Ad']==0][column].std()\n",
    "y_not_clicked = norm.pdf(x,mean_not_clicked,std_not_clicked)\n",
    "\n",
    "index = np.argwhere(np.diff(np.sign(y_clicked - y_not_clicked))).flatten()\n",
    "\n",
    "ind = []\n",
    "clicked = []\n",
    "for i in range(1000):\n",
    "    if(df['Clicked on Ad'][i] != 1 and df['Clicked on Ad'][i]!=0):\n",
    "        if(df[column][i]<x[int(index)]):\n",
    "            ind.append(i)\n",
    "            clicked.append(1)\n",
    "        else:\n",
    "            ind.append(i)\n",
    "            clicked.append(0)\n",
    "\n",
    "dict = {'': ind, 'Clicked on Ad': clicked}  \n",
    "\n",
    "new_df = pd.DataFrame(dict) \n",
    "\n",
    "new_df.to_csv('out.csv') \n",
    "\n",
    "\n"
   ]
  },
  {
   "cell_type": "markdown",
   "metadata": {},
   "source": [
    "<div class=\"text-right\" style=\"direction: rtl;\">\n",
    "    <p>در این بخش میخواهیم کلیک کردن یا نکردن کاربرانی که داده‌ی کلیک کردن یا نکردنشان از دست رفته است را پیشبینی کنیم.</p>\n",
    "    <p>برای اینکار مقدار daily internet usage  را در نقطه مشترک بین دو نمودار در بخش قبل را با دستور x[np.argwhere(np.diff(np.sign(y_clicked - y_not_clicked))).flatten()] بدست می آوریم.\n",
    "    حال بر اساس نمودار میتوانیم بگوییم اگر کاربر مقدار استفاده روزانه‌اش از اینترنت کمتر از این مقدار بود پس احتمال آنکه کلیک کرده باشد بیشتر است و برعکس. پس شرط بیشتر یا کمتر بودن از آن مقدار را میگذاریم و مقدار کلیک کردن یا نکردن را پیشبینی میکنیم.</p>\n",
    "    <p>حال یک dataframe جدید درست میکنیم که مقادیر پیشبینی شده را در آن ذخیره کنیم و آن را به فایل csvتبدیل میکنیم.</p>\n",
    "    <h4>نتیجه:</h4>\n",
    "    <p>می میتوانیم با داشتن اطلاعات مختلف از کاربران، ابتدا داده ها را نرمالایز کنیم. سپس با بدست آوردن توزیع کاربرانی که ویژگی مورد نظر را دارند در ویزگی های دیگر تصمیم بگیریم که معیارمان را کدام ویژگی افراد قرار دهیم. سپس آن ویژگی افراد را با مقدار معیار مقایسه میکنیم و مقدار مورد نظر را پیشبینی میکنیم.</p>\n",
    "    <p>نکته دیگری که از این پروژه میتوانیم  نتیجه بگیریم این است که در موقعیت هایی که تعداد داده بسیار زیاد است، victorization بسیار سریع تر از محاسبات دستی و استفاده از forloop جواب میدهد.</p>\n",
    "</div>"
   ]
  }
 ],
 "metadata": {
  "celltoolbar": "Raw Cell Format",
  "kernelspec": {
   "display_name": "Python 3",
   "language": "python",
   "name": "python3"
  },
  "language_info": {
   "codemirror_mode": {
    "name": "ipython",
    "version": 3
   },
   "file_extension": ".py",
   "mimetype": "text/x-python",
   "name": "python",
   "nbconvert_exporter": "python",
   "pygments_lexer": "ipython3",
   "version": "3.8.5"
  }
 },
 "nbformat": 4,
 "nbformat_minor": 4
}
